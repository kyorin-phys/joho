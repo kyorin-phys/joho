{
 "cells": [
  {
   "cell_type": "markdown",
   "metadata": {},
   "source": [
    "## 電卓として使う \n",
    "ターミナルでpythonを起動するか、jupyter notebook を開く。\n",
    "Google colabの場合はgoogle driveで「新規」から「Google Colaboratory」で空のnotebookが開く。\n",
    "\n",
    "Excelの式は＝で始めるが、ここでは計算式のみを入れて　CTRL＋ENTER　または　▷を押す\n",
    "\n",
    "四則演算　+, -, *, /\n",
    "\n",
    "べき乗　**  \n",
    "\n",
    "剰余　% \n",
    "\n",
    "整数除算　// "
   ]
  },
  {
   "cell_type": "code",
   "execution_count": 1,
   "metadata": {},
   "outputs": [
    {
     "data": {
      "text/plain": [
       "6"
      ]
     },
     "execution_count": 1,
     "metadata": {},
     "output_type": "execute_result"
    }
   ],
   "source": [
    "# print文を使わなければ最後の結果だけ表示される(数字と演算子の間の空白はあってもなくても同じ)\n",
    "1 + 2\n",
    "2*3"
   ]
  },
  {
   "cell_type": "code",
   "execution_count": 2,
   "metadata": {},
   "outputs": [
    {
     "name": "stdout",
     "output_type": "stream",
     "text": [
      "1 + 2 = 3\n",
      "1 - 2 = -1\n",
      "2 * 3 = 6\n",
      "2 / 3 = 0.6666666666666666\n",
      "2 // 3 = 0\n",
      "3 % 2 =  1\n"
     ]
    }
   ],
   "source": [
    "print(\"1 + 2 =\", 1 + 2)\n",
    "print(\"1 - 2 =\", 1 - 2)\n",
    "print(\"2 * 3 =\", 2 * 3)\n",
    "print(\"2 / 3 =\", 2 / 3)\n",
    "print(\"2 // 3 =\", 2 // 3) # 小数部分を切り捨て\n",
    "print(\"3 % 2 = \", 3 % 2) # 3を2で割った余り"
   ]
  },
  {
   "cell_type": "code",
   "execution_count": 3,
   "metadata": {},
   "outputs": [
    {
     "name": "stdout",
     "output_type": "stream",
     "text": [
      "0b1011\n",
      "0b1110\n",
      "0b1010 0b1111 0b101 -0b1100 -12\n",
      "0b1110 0b1011 0b0\n",
      "0xa\n"
     ]
    }
   ],
   "source": [
    "# Excelではべき乗に ^ を使うが、pythonではビットXOR演算子（排他的論理和）で全く違うので注意\n",
    "# このブロックは初心者は省略してよい\n",
    "# ビット演算子としては他に AND(&), OR(|), NOT (~) がある。binは２進数に変換する。(2進数は0b、16進数は0xで始まる)\n",
    "a = 11\n",
    "b = 14\n",
    "print(bin(a))\n",
    "print(bin(b))\n",
    "print(bin(a & b), bin(a | b), bin(a ^ b), bin(~a), ~a)\n",
    "print(bin(a and b), bin(a or b), bin(not a))\n",
    "print(hex(10))"
   ]
  },
  {
   "cell_type": "code",
   "execution_count": 4,
   "metadata": {},
   "outputs": [
    {
     "name": "stdout",
     "output_type": "stream",
     "text": [
      "1\n",
      "['False', 'None', 'True', 'and', 'as', 'assert', 'async', 'await', 'break', 'class', 'continue', 'def', 'del', 'elif', 'else', 'except', 'finally', 'for', 'from', 'global', 'if', 'import', 'in', 'is', 'lambda', 'nonlocal', 'not', 'or', 'pass', 'raise', 'return', 'try', 'while', 'with', 'yield']\n"
     ]
    }
   ],
   "source": [
    "# 変数　他の言語では「型」（整数、浮動小数、ブール）などを定義して使うが、pythonは動的に決まる\n",
    "# x = 1 と入れると、xという変数ができて、その値は1となる。変数の値を確認したいときにprint 文を使う\n",
    "x = 1\n",
    "print(x)\n",
    "# 予約語は変数名として使うのを避ける　print, if, for など機能で使うものを変数にすると、困ったことになる \n",
    "import keyword\n",
    "print(keyword.kwlist) #変数に使えない文字列の一覧\n",
    "# コードが大規模になると、1文字ではわかりにくくなるので、中身がわかるようにし、複数の単語をつなげるときにアンダースコアでつないだりする\n",
    "score_phys = 60\n",
    "score_bio  = 70\n",
    "score_chem = 80"
   ]
  },
  {
   "cell_type": "code",
   "execution_count": 5,
   "metadata": {},
   "outputs": [
    {
     "name": "stdout",
     "output_type": "stream",
     "text": [
      "1.0\n",
      "12300.0\n"
     ]
    }
   ],
   "source": [
    "x = 1.0000 # float 浮動小数点数\n",
    "print(x)\n",
    "x = 1.23e4 # 関数電卓と同じ表記\n",
    "print(x)"
   ]
  },
  {
   "cell_type": "code",
   "execution_count": 6,
   "metadata": {},
   "outputs": [
    {
     "name": "stdout",
     "output_type": "stream",
     "text": [
      "True\n"
     ]
    }
   ],
   "source": [
    "# 真偽値と論理演算\n",
    "x = True\n",
    "print(x)"
   ]
  },
  {
   "cell_type": "code",
   "execution_count": 7,
   "metadata": {},
   "outputs": [
    {
     "name": "stdout",
     "output_type": "stream",
     "text": [
      "1 0\n"
     ]
    }
   ],
   "source": [
    "print(int(True), int(False))"
   ]
  },
  {
   "cell_type": "code",
   "execution_count": 8,
   "metadata": {},
   "outputs": [
    {
     "data": {
      "text/plain": [
       "0"
      ]
     },
     "execution_count": 8,
     "metadata": {},
     "output_type": "execute_result"
    }
   ],
   "source": [
    "1-True"
   ]
  },
  {
   "cell_type": "code",
   "execution_count": 9,
   "metadata": {},
   "outputs": [
    {
     "data": {
      "text/plain": [
       "False"
      ]
     },
     "execution_count": 9,
     "metadata": {},
     "output_type": "execute_result"
    }
   ],
   "source": [
    "not True"
   ]
  },
  {
   "cell_type": "code",
   "execution_count": 10,
   "metadata": {},
   "outputs": [
    {
     "data": {
      "text/plain": [
       "True"
      ]
     },
     "execution_count": 10,
     "metadata": {},
     "output_type": "execute_result"
    }
   ],
   "source": [
    "not False"
   ]
  },
  {
   "cell_type": "code",
   "execution_count": 11,
   "metadata": {},
   "outputs": [
    {
     "name": "stdout",
     "output_type": "stream",
     "text": [
      "xはTrue\n"
     ]
    }
   ],
   "source": [
    "# ブール値 (真偽)\n",
    "# 条件式\n",
    "x = True\n",
    "if x:\n",
    "    print(\"xはTrue\")\n",
    "else:\n",
    "    print(\"xはFalse\")"
   ]
  },
  {
   "cell_type": "code",
   "execution_count": 12,
   "metadata": {},
   "outputs": [
    {
     "name": "stdout",
     "output_type": "stream",
     "text": [
      "6\n"
     ]
    }
   ],
   "source": [
    "# 論理演算　and(かつ), or（または）\n",
    "# 「==」 は右辺と左辺が等しいかどうかの論理式（True or False）\n",
    "for x in range(1,10):\n",
    "    if x % 2 == 0 and x % 3 == 0: # 2と3で割り切れる\n",
    "        print(x)"
   ]
  },
  {
   "cell_type": "code",
   "execution_count": 13,
   "metadata": {},
   "outputs": [
    {
     "name": "stdout",
     "output_type": "stream",
     "text": [
      "1\n",
      "2\n",
      "3\n",
      "range(1, 3) [1, 2]\n",
      "1\n",
      "2\n",
      "3\n"
     ]
    }
   ],
   "source": [
    "# 繰り返し\n",
    "for x in [1,2,3]:\n",
    "    print(x)\n",
    "# range(a,b) はa以上b未満の整数の範囲\n",
    "a = range(1,3)\n",
    "print(a, list(a))\n",
    "for x in range(1,4):\n",
    "    print(x)"
   ]
  },
  {
   "cell_type": "code",
   "execution_count": 14,
   "metadata": {},
   "outputs": [
    {
     "name": "stdout",
     "output_type": "stream",
     "text": [
      "1\n",
      "2\n",
      "3\n"
     ]
    }
   ],
   "source": [
    "# 無限ループで条件を満たすと脱出する\n",
    "x = 0\n",
    "while True:\n",
    "    x = x + 1\n",
    "    if x > 3:\n",
    "        break\n",
    "    print(x)\n"
   ]
  },
  {
   "cell_type": "code",
   "execution_count": 15,
   "metadata": {},
   "outputs": [
    {
     "name": "stdout",
     "output_type": "stream",
     "text": [
      "2\n",
      "3\n",
      "4\n",
      "6\n",
      "8\n",
      "9\n"
     ]
    }
   ],
   "source": [
    "# 1桁の整数で2か3で割り切れる整数\n",
    "for x in range(1,10):\n",
    "    if x % 2 == 0 or x % 3 == 0:\n",
    "        print(x)"
   ]
  },
  {
   "cell_type": "markdown",
   "metadata": {},
   "source": [
    "###  参考資料\n",
    "[東大　Pythonプログラミング入門](https://utokyo-ipp.github.io/IPP_textbook.pdf)　300ページあるので読み通すより辞書的に使えばよい\n",
    "\n",
    "[京大　プログラミング演習 Python](https://repository.kulib.kyoto-u.ac.jp/dspace/bitstream/2433/285599/1/Version2023_10_17_01.pdf)　260ページ\n",
    "\n",
    "[東工大 Python早見帳](https://chokkan.github.io/python/index.html)　notebook形式で分量もちょうどいいかもしれません\n",
    "\n",
    "[東工大 機械学習帳](https://chokkan.github.io/mlnote/) 上の続きでDeep Learning以前の機械学習\n",
    "\n",
    "[東工大　深層学習入門](https://chokkan.github.io/deeplearning/) 形式は違うが上の続き\n",
    "\n",
    "[筑波大　Python 学習教材 三木純](https://mitani.cs.tsukuba.ac.jp/book_support/python/python_slides.pdf)"
   ]
  },
  {
   "cell_type": "markdown",
   "metadata": {},
   "source": [
    "### デスクトップへのインストール\n",
    "\n",
    "* [anaconda](https://www.anaconda.com/download/) windows,macどちらも使える。こちらの方がユーザーが多い印象。\n",
    "\n",
    "* [python公式サイト](https://www.python.org/downloads/) これもwindows,macどちらも対応。"
   ]
  }
 ],
 "metadata": {
  "kernelspec": {
   "display_name": "base",
   "language": "python",
   "name": "python3"
  },
  "language_info": {
   "codemirror_mode": {
    "name": "ipython",
    "version": 3
   },
   "file_extension": ".py",
   "mimetype": "text/x-python",
   "name": "python",
   "nbconvert_exporter": "python",
   "pygments_lexer": "ipython3",
   "version": "3.11.5"
  }
 },
 "nbformat": 4,
 "nbformat_minor": 2
}
