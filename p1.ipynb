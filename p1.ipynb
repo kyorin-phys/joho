import matplotlib.pyplot as plt
import numpy as np

x = np.linspace(0, 1)
y = x**2
plt.plot(x, y)
plt.xlabel('x')
plt.ylabel('y')
plt.grid()
plt.show()
