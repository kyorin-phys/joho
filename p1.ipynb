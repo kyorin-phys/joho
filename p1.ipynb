{
 "cells": [
  {
   "cell_type": "markdown",
   "metadata": {},
   "source": [
    "[![Open In Colab](https://colab.research.google.com/assets/colab-badge.svg)](https://colab.research.google.com/github/kyorin-phys/joho/blob/main/p1.ipynb)"
   ]
  },
  {
   "cell_type": "markdown",
   "metadata": {},
   "source": [
    "### 例題１ \n",
    "$y = x^2 \\quad (1 \\leq x \\leq 20)$ のグラフを作る"
   ]
  },
  {
   "cell_type": "code",
   "execution_count": null,
   "metadata": {},
   "outputs": [],
   "source": [
    "import matplotlib.pyplot as plt\n",
    "import japanize_matplotlib\n",
    "import numpy as np\n",
    "\n",
    "x = np.linspace(1, 20)\n",
    "y = x**2\n",
    "plt.scatter(x, y)\n",
    "plt.xlabel('x')\n",
    "plt.ylabel('y')\n",
    "plt.xlim(0,)\n",
    "plt.ylim(0,)\n",
    "plt.grid()\n",
    "plt.show()"
   ]
  },
  {
   "cell_type": "markdown",
   "metadata": {},
   "source": [
    "### 例題２　片対数グラフ\n",
    "指数関数 $y=e^{-x}, \\quad y = e^{-0.3x} \\quad (0\\leq x \\leq 10)$ のグラフを片対数グラフで表示する"
   ]
  },
  {
   "cell_type": "code",
   "execution_count": null,
   "metadata": {},
   "outputs": [],
   "source": [
    "x = np.linspace(0, 10)\n",
    "y1 = np.exp(-x)\n",
    "y2 = np.exp(-0.3*x)\n",
    "plt.plot(x, y1, label='$y=e^{-x}$')\n",
    "plt.plot(x, y2, label='$y=e^{-0.3x}$')\n",
    "plt.xlabel('$x$')\n",
    "plt.ylabel('$y$')\n",
    "plt.legend()\n",
    "plt.yscale('log')\n",
    "plt.yticks()\n",
    "plt.grid()\n",
    "plt.show()"
   ]
  },
  {
   "cell_type": "markdown",
   "metadata": {},
   "source": [
    "### 例題3 両対数グラフ\n",
    "関数 $y = x^{1/2}, y=x^{1/3}\\quad (1 \\leqq x \\leq 8192)$ を両対数グラフで表示する"
   ]
  },
  {
   "cell_type": "code",
   "execution_count": null,
   "metadata": {},
   "outputs": [],
   "source": [
    "x = np.array([2**i for i in range(14)])\n",
    "y1 = x**(1/2)\n",
    "y2 = x**(1/3)\n",
    "plt.plot(x, y1, label='$y=x^{1/2}$')\n",
    "plt.plot(x, y2, label='$y=x^{1/3}$')\n",
    "plt.legend()\n",
    "plt.xscale('log')\n",
    "plt.yscale('log')\n",
    "plt.xlabel('$x$')\n",
    "plt.ylabel('$y$') \n",
    "plt.grid()\n",
    "plt.show()        "
   ]
  },
  {
   "cell_type": "markdown",
   "metadata": {},
   "source": [
    "### 練習課題１\n",
    "関数 $y=2(1-e^{-3x}) \\quad (0 \\leq x \\leq 2)$ のグラフを作る"
   ]
  },
  {
   "cell_type": "code",
   "execution_count": null,
   "metadata": {},
   "outputs": [],
   "source": [
    "x = np.linspace(0, 2)\n",
    "y = 2 * (1 - np.exp(-3*x))\n",
    "plt.plot(x, y, label='$y=2(1-e^{-3x})$')\n",
    "plt.xlabel('$x$')\n",
    "plt.ylabel('$y$')\n",
    "plt.legend()\n",
    "plt.show()"
   ]
  },
  {
   "cell_type": "markdown",
   "metadata": {},
   "source": [
    "### 練習課題２\n",
    "(1) 2つの関数$x(t)=\\cos{t}, y(t)=\\sin{t} \\quad (0 \\leq t \\leq 2\\pi)$ を横軸を$t$とする一枚のグラフでプロットせよ。"
   ]
  },
  {
   "cell_type": "code",
   "execution_count": null,
   "metadata": {},
   "outputs": [],
   "source": [
    "t = np.linspace(0, 2*np.pi)\n",
    "x = np.cos(t)\n",
    "y = np.sin(t)\n",
    "plt.plot(t, x, label='$x(t)=\\cos t$')\n",
    "plt.plot(t, y, label='$y(t)=\\sin t$')\n",
    "plt.xlabel('$t$')\n",
    "plt.legend()\n",
    "plt.show()"
   ]
  },
  {
   "cell_type": "markdown",
   "metadata": {},
   "source": [
    "(2) $x(t), y(t)$ の関係をプロットする。"
   ]
  },
  {
   "cell_type": "code",
   "execution_count": null,
   "metadata": {},
   "outputs": [],
   "source": [
    "plt.plot(x, y)\n",
    "plt.xlabel('$x(t)$')\n",
    "plt.ylabel('$y(t)$')\n",
    "plt.axis('square')\n",
    "plt.show()"
   ]
  },
  {
   "cell_type": "markdown",
   "metadata": {},
   "source": [
    "(3) $x(t)=\\cos{t}, y(t)=\\cos{2t}$"
   ]
  },
  {
   "cell_type": "code",
   "execution_count": null,
   "metadata": {},
   "outputs": [],
   "source": [
    "t = np.linspace(0, 2*np.pi, 1024)\n",
    "x = np.cos(t)\n",
    "y = np.cos(2*t)\n",
    "plt.plot(x, y)\n",
    "plt.xlabel('$x=\\cos{t}$')\n",
    "plt.ylabel('$y=\\cos{2t}$')\n",
    "plt.axis('square')\n",
    "plt.show()"
   ]
  },
  {
   "cell_type": "markdown",
   "metadata": {},
   "source": [
    "(4) $x(t) = \\cos{t}, y(t) = \\cos{4t}$"
   ]
  },
  {
   "cell_type": "code",
   "execution_count": null,
   "metadata": {},
   "outputs": [],
   "source": [
    "x = np.cos(t)\n",
    "y = np.cos(4*t)\n",
    "plt.plot(x, y)\n",
    "plt.xlabel('$x=\\cos{t}$')\n",
    "plt.ylabel('$y=\\cos{4t}$')\n",
    "plt.axis('square')\n",
    "plt.show()"
   ]
  },
  {
   "cell_type": "markdown",
   "metadata": {},
   "source": [
    "(5) $x(t) = \\sin{2t}, y(t) = \\sin{3t}$"
   ]
  },
  {
   "cell_type": "code",
   "execution_count": null,
   "metadata": {},
   "outputs": [],
   "source": [
    "x = np.sin(2*t)\n",
    "y = np.sin(3*t)\n",
    "plt.plot(x, y)\n",
    "plt.xlabel('$x=\\sin{2t}$')\n",
    "plt.ylabel('$y=\\sin{3t}$')\n",
    "plt.axis('square')\n",
    "plt.show()"
   ]
  },
  {
   "cell_type": "markdown",
   "metadata": {},
   "source": [
    "### 練習課題3\n",
    "$y=\\dfrac{ax}{x+b}$ のような関数について、\n",
    "\n",
    "(1) $a=5, b=2$として$1 \\leq x \\leq 50$のグラフを作れ"
   ]
  },
  {
   "cell_type": "code",
   "execution_count": null,
   "metadata": {},
   "outputs": [],
   "source": [
    "x = np.linspace(1, 50)\n",
    "a = 5\n",
    "b = 2\n",
    "y = a*x/(x+b)\n",
    "plt.scatter(x, y, label=r'$y=\\dfrac{5x}{x+2}$')\n",
    "plt.xlabel('x')\n",
    "plt.ylabel('y')\n",
    "plt.legend()\n",
    "plt.show()"
   ]
  },
  {
   "cell_type": "markdown",
   "metadata": {},
   "source": [
    "(2) $X = 1/x, \\, Y = 1/y$の関係をプロットせよ。グラフから傾きと切片を読み取り、$X, Y$の関係式を求めよ。"
   ]
  },
  {
   "cell_type": "code",
   "execution_count": null,
   "metadata": {},
   "outputs": [],
   "source": [
    "X = 1 / x \n",
    "Y = 1 / y\n",
    "plt.scatter(X, Y)\n",
    "plt.xlabel('$X=1/x$')\n",
    "plt.ylabel('$Y=1/y$')\n",
    "plt.xlim(0, )\n",
    "plt.ylim(0, )\n",
    "plt.show()"
   ]
  },
  {
   "cell_type": "markdown",
   "metadata": {},
   "source": [
    "(3) $x$ と $u = x/y$ の関係をプロットせよ。グラフから傾きと切片を読み取り、$x, u$ の関係式を求めよ。"
   ]
  },
  {
   "cell_type": "code",
   "execution_count": null,
   "metadata": {},
   "outputs": [],
   "source": [
    "u = x / y\n",
    "plt.scatter(x, u)\n",
    "plt.xlabel('$x$')\n",
    "plt.ylabel('$u=x/y$')\n",
    "plt.xlim(0, )\n",
    "plt.show()"
   ]
  },
  {
   "cell_type": "markdown",
   "metadata": {},
   "source": [
    "### 応用問題1 (酵素反応における濃度と反応速度の関係)\n",
    "酵素E、基質Sから生成物Pが生成する酵素反応\n",
    "$$\n",
    "\\mathrm{E+S} \\overset{k_+}{\\underset{k_-}{\\rightleftharpoons}} \\mathrm{ES} \\rightarrow \\mathrm{E+P}\n",
    "$$\n",
    "における基質濃度$S$と反応速度$v$の実験データがある。ミカエリス・メンテンの式\n",
    "$$\n",
    "v = \\frac{V_{max}S}{K_m+S}\n",
    "$$\n",
    "が成り立つ。実験データをこの関数に当てはめて、未知数である最大反応速度$V_{max}$, 平衡定数$K_m$を求める。"
   ]
  },
  {
   "cell_type": "code",
   "execution_count": 13,
   "metadata": {},
   "outputs": [],
   "source": [
    "import pandas as pd\n",
    "\n",
    "df = pd.read_csv('p1.csv')\n",
    "S = df[\"S\"]\n",
    "v = df[\"v\"]"
   ]
  },
  {
   "cell_type": "markdown",
   "metadata": {},
   "source": [
    "(1) $S, v$の関係をグラフにする。"
   ]
  },
  {
   "cell_type": "code",
   "execution_count": null,
   "metadata": {},
   "outputs": [],
   "source": [
    "plt.scatter(S, v)\n",
    "plt.xlabel('S[mM]')\n",
    "plt.ylabel('v[mM/min]')\n",
    "plt.show()"
   ]
  },
  {
   "cell_type": "markdown",
   "metadata": {},
   "source": [
    "(2) $1/S, 1/v$ の関係をグラフにし、近似曲線を利用して、係数$V_{max}, K_m$の値を求めよ。\n",
    "\n",
    "両辺の逆数を取ると、\n",
    "$$\n",
    "\\frac{1}{v} = \\frac{1}{V_{max}} + \\frac{K_m}{V_{max}}\\frac{1}{S}\n",
    "$$\n",
    "となり、傾きが$\\dfrac{K_m}{V_{max}}, \\quad $ y切片が$\\dfrac{1}{V_{max}}$の直線となる。\n",
    "線形回帰で傾き$a$, y切片$b$が求まると、\n",
    "$V_{max} = 1 / b, \\quad K_m= a V_{max} = a / b$ が求まる。"
   ]
  },
  {
   "cell_type": "code",
   "execution_count": null,
   "metadata": {},
   "outputs": [],
   "source": [
    "X = 1/S\n",
    "Y = 1/v\n",
    "plt.scatter(X, Y)\n",
    "plt.xlabel('1/S')\n",
    "plt.ylabel('1/v')\n",
    "plt.show()"
   ]
  },
  {
   "cell_type": "markdown",
   "metadata": {},
   "source": [
    "線形回帰を行うためのライブラリとして<br>\n",
    "統計に関連したライブラリでは　scipy.stats.linregress があり、<br>\n",
    "機械学習に関連したライブラリでは　sklearn.linear_model.LinearRegression がある。"
   ]
  },
  {
   "cell_type": "code",
   "execution_count": null,
   "metadata": {},
   "outputs": [],
   "source": [
    "# scipy の場合\n",
    "from scipy.stats import linregress\n",
    "df = pd.read_csv('p1.csv')\n",
    "S = df['S']\n",
    "v = df['v']\n",
    "X = 1/S\n",
    "Y = 1/v\n",
    "res = linregress(X, Y)\n",
    "print(res.slope, res.intercept) # 傾きと切片\n",
    "Vmax = 1/res.intercept\n",
    "Km = Vmax*res.slope\n",
    "s = np.linspace(0.1, 2)\n",
    "plt.scatter(S, v, label='実験データ')\n",
    "plt.plot(s, Vmax*s/(Km+s),label='理論式')\n",
    "plt.xlabel('S')\n",
    "plt.ylabel('v')\n",
    "plt.legend()\n",
    "plt.show()"
   ]
  },
  {
   "cell_type": "code",
   "execution_count": null,
   "metadata": {},
   "outputs": [],
   "source": [
    "# scikit-learn の場合\n",
    "from sklearn.linear_model import LinearRegression\n",
    "df = pd.read_csv('p1.csv')\n",
    "S = df[['S']] # 重線形回帰のため、説明変数は複数の列を扱えるようにしている\n",
    "v = df['v']\n",
    "X = 1/S\n",
    "Y = 1/v\n",
    "lr = LinearRegression()\n",
    "lr.fit(X, Y)\n",
    "print(lr.coef_[0], lr.intercept_) # 傾きと切片"
   ]
  }
 ],
 "metadata": {
  "kernelspec": {
   "display_name": "base",
   "language": "python",
   "name": "python3"
  },
  "language_info": {
   "codemirror_mode": {
    "name": "ipython",
    "version": 3
   },
   "file_extension": ".py",
   "mimetype": "text/x-python",
   "name": "python",
   "nbconvert_exporter": "python",
   "pygments_lexer": "ipython3",
   "version": "3.11.7"
  }
 },
 "nbformat": 4,
 "nbformat_minor": 2
}
