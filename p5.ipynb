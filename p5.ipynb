{
 "cells": [
  {
   "cell_type": "markdown",
   "metadata": {},
   "source": [
    "[![Open In Colab](https://colab.research.google.com/assets/colab-badge.svg)](https://colab.research.google.com/github/kyorin-phys/joho/blob/main/p5.ipynb)"
   ]
  },
  {
   "cell_type": "markdown",
   "metadata": {},
   "source": [
    "次のような漸化式を考える（ロジスティック写像）\n",
    "$$\n",
    "x_{n+1} = a x_n (1-x_n)\n",
    "$$\n",
    "パラメータ$a$と初項$x_1$が与えられたときに、数列の変化の様子をグラフにする。"
   ]
  },
  {
   "cell_type": "code",
   "execution_count": 1,
   "metadata": {},
   "outputs": [
    {
     "data": {
      "application/vnd.jupyter.widget-view+json": {
       "model_id": "f88fce0000d34622a1d50b5d712f2530",
       "version_major": 2,
       "version_minor": 0
      },
      "text/plain": [
       "interactive(children=(FloatSlider(value=1.0, description='a', max=4.0, min=0.1), FloatSlider(value=0.49, descr…"
      ]
     },
     "metadata": {},
     "output_type": "display_data"
    }
   ],
   "source": [
    "import matplotlib.pyplot as plt\n",
    "import numpy as np\n",
    "import ipywidgets as widgets\n",
    "from ipywidgets import interactive\n",
    "\n",
    "def logisticmap(a, x):\n",
    "    X = []\n",
    "    Y = []\n",
    "    N = []\n",
    "    t = np.linspace(0, 1)\n",
    "    for n in range(1, 100):\n",
    "        y = a * x * (1 - x)\n",
    "        X.append(x)\n",
    "        Y.append(y)\n",
    "        N.append(n)\n",
    "        x = y\n",
    "\n",
    "    fig, (ax1, ax2) = plt.subplots(1,2,sharey=True,figsize=(10,5))\n",
    "    # (x(n), x(n+1))をプロット    \n",
    "    ax1.plot(X, Y, 'o', ls='-')\n",
    "    ax1.plot(t, a*t*(1-t),ls='--')\n",
    "    ax1.set_xlabel('$x_n$')\n",
    "    ax1.set_ylabel('$x_{n+1}$')\n",
    "    ax1.set_ylim(0,1)\n",
    "    # (n, x(n))をプロット\n",
    "    ax2.plot(N, X, 'o', ls='-')\n",
    "    ax2.set_xlabel('$n$')\n",
    "    ax2.set_ylabel('$x_n$')\n",
    "    ax2.set_ylim(0,1)\n",
    "    plt.show()\n",
    "\n",
    "# パラメータa、初項x0を変えて実行する\n",
    "interactive(logisticmap, \n",
    "            a=widgets.FloatSlider(min=0.1,max=4,step=0.1,value=1),\n",
    "            x=widgets.FloatSlider(min=0.01,max=0.99,step=0.01,value=0.49))"
   ]
  }
 ],
 "metadata": {
  "kernelspec": {
   "display_name": "base",
   "language": "python",
   "name": "python3"
  },
  "language_info": {
   "codemirror_mode": {
    "name": "ipython",
    "version": 3
   },
   "file_extension": ".py",
   "mimetype": "text/x-python",
   "name": "python",
   "nbconvert_exporter": "python",
   "pygments_lexer": "ipython3",
   "version": "3.11.7"
  }
 },
 "nbformat": 4,
 "nbformat_minor": 2
}
