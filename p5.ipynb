{
 "cells": [
  {
   "cell_type": "markdown",
   "metadata": {},
   "source": [
    "次のような漸化式を考える（ロジスティック写像）\n",
    "$$\n",
    "x_{n+1} = a x_n (1-x_n)\n",
    "$$"
   ]
  },
  {
   "cell_type": "code",
   "execution_count": 23,
   "metadata": {},
   "outputs": [
    {
     "data": {
      "application/vnd.jupyter.widget-view+json": {
       "model_id": "8b3c750de3e3494ea3634b05a147b221",
       "version_major": 2,
       "version_minor": 0
      },
      "text/plain": [
       "interactive(children=(FloatSlider(value=1.0, description='a', max=4.0, min=0.1), FloatSlider(value=0.49, descr…"
      ]
     },
     "execution_count": 23,
     "metadata": {},
     "output_type": "execute_result"
    }
   ],
   "source": [
    "import matplotlib.pyplot as plt\n",
    "import numpy as np\n",
    "import ipywidgets as widgets\n",
    "from ipywidgets import interactive\n",
    "\n",
    "def logisticmap(a, x):\n",
    "    X = []\n",
    "    Y = []\n",
    "    N = []\n",
    "    t = np.linspace(0, 1)\n",
    "    for n in range(1, 100):\n",
    "        y = a * x * (1 - x)\n",
    "        X.append(x)\n",
    "        Y.append(y)\n",
    "        N.append(n)\n",
    "        x = y\n",
    "    fig, (ax1, ax2) = plt.subplots(1,2,sharey=True,figsize=(10,5))\n",
    "    # (x(n), x(n+1))をプロット    \n",
    "    ax1.plot(X, Y, 'o', ls='-')\n",
    "    ax1.plot(t, a*t*(1-t),ls='--')\n",
    "    ax1.set_xlabel('$x_n$')\n",
    "    ax1.set_ylabel('$x_{n+1}$')\n",
    "    ax1.set_ylim(0,1)\n",
    "    # (n, x(n))をプロット\n",
    "    ax2.plot(N, X, 'o', ls='-')\n",
    "    ax2.set_xlabel('$n$')\n",
    "    ax2.set_ylabel('$x_n$')\n",
    "    ax2.set_ylim(0,1)\n",
    "    plt.show()\n",
    "\n",
    "interactive(logisticmap, \n",
    "            a=widgets.FloatSlider(min=0.1,max=4,step=0.1,value=1),\n",
    "            x=widgets.FloatSlider(min=0.01,max=0.99,step=0.01,value=0.49))\n"
   ]
  },
  {
   "cell_type": "code",
   "execution_count": null,
   "metadata": {},
   "outputs": [],
   "source": []
  },
  {
   "cell_type": "code",
   "execution_count": null,
   "metadata": {},
   "outputs": [],
   "source": []
  }
 ],
 "metadata": {
  "kernelspec": {
   "display_name": "base",
   "language": "python",
   "name": "python3"
  },
  "language_info": {
   "codemirror_mode": {
    "name": "ipython",
    "version": 3
   },
   "file_extension": ".py",
   "mimetype": "text/x-python",
   "name": "python",
   "nbconvert_exporter": "python",
   "pygments_lexer": "ipython3",
   "version": "3.11.5"
  }
 },
 "nbformat": 4,
 "nbformat_minor": 2
}
