{
 "cells": [
  {
   "cell_type": "markdown",
   "metadata": {},
   "source": [
    "### 区分求積法（数値積分）\n",
    "$$\n",
    "S = \\int_a^b f(x)dx = \\lim_{N\\rightarrow \\infty} \\sum_{i}^{N} f(x_k) \\Delta x \n",
    "$$\n",
    "積分区間 $[a,b]$ をN等分した幅を$\\Delta x$として、底辺が$\\Delta x$で高さ$f(x_k)$の短冊の面積の和を定積分の近似値とする。\n",
    "$\\Delta x = \\dfrac{b-a}{N}$"
   ]
  },
  {
   "cell_type": "markdown",
   "metadata": {},
   "source": [
    "例　\n",
    "$$\n",
    "\\int_0^1 x^2 dx = \\frac{1}{3}\n",
    "$$\n",
    "を求め、近似値となることを確かめる。"
   ]
  },
  {
   "cell_type": "code",
   "execution_count": 6,
   "metadata": {},
   "outputs": [
    {
     "data": {
      "text/plain": [
       "array([0.  , 0.01, 0.02, 0.03, 0.04, 0.05, 0.06, 0.07, 0.08, 0.09, 0.1 ,\n",
       "       0.11, 0.12, 0.13, 0.14, 0.15, 0.16, 0.17, 0.18, 0.19, 0.2 , 0.21,\n",
       "       0.22, 0.23, 0.24, 0.25, 0.26, 0.27, 0.28, 0.29, 0.3 , 0.31, 0.32,\n",
       "       0.33, 0.34, 0.35, 0.36, 0.37, 0.38, 0.39, 0.4 , 0.41, 0.42, 0.43,\n",
       "       0.44, 0.45, 0.46, 0.47, 0.48, 0.49, 0.5 , 0.51, 0.52, 0.53, 0.54,\n",
       "       0.55, 0.56, 0.57, 0.58, 0.59, 0.6 , 0.61, 0.62, 0.63, 0.64, 0.65,\n",
       "       0.66, 0.67, 0.68, 0.69, 0.7 , 0.71, 0.72, 0.73, 0.74, 0.75, 0.76,\n",
       "       0.77, 0.78, 0.79, 0.8 , 0.81, 0.82, 0.83, 0.84, 0.85, 0.86, 0.87,\n",
       "       0.88, 0.89, 0.9 , 0.91, 0.92, 0.93, 0.94, 0.95, 0.96, 0.97, 0.98,\n",
       "       0.99, 1.  ])"
      ]
     },
     "execution_count": 6,
     "metadata": {},
     "output_type": "execute_result"
    }
   ],
   "source": [
    "\n",
    "import numpy as np\n",
    "N = 100\n",
    "x = np.linspace(0, 1, N+1)\n",
    "x\n"
   ]
  },
  {
   "cell_type": "code",
   "execution_count": 9,
   "metadata": {},
   "outputs": [
    {
     "name": "stdout",
     "output_type": "stream",
     "text": [
      "0.33835000000000004 1.5050000000000174\n"
     ]
    }
   ],
   "source": [
    "delta = 1 / N\n",
    "I = sum(xi**2 for xi in x) * delta \n",
    "I0 = 1/3\n",
    "error = abs(I-I0)/I0*100 # 相対誤差％\n",
    "print(I, error)"
   ]
  },
  {
   "cell_type": "markdown",
   "metadata": {},
   "source": [
    "### 練習課題4\n",
    "(1) $\\int_0^\\pi \\sin{x} dx$"
   ]
  },
  {
   "cell_type": "code",
   "execution_count": 12,
   "metadata": {},
   "outputs": [
    {
     "name": "stdout",
     "output_type": "stream",
     "text": [
      "1.9998355038874436 0.00822480562782113\n"
     ]
    }
   ],
   "source": [
    "x = np.linspace(0, np.pi, N+1)\n",
    "delta = np.pi / N\n",
    "I = sum(np.sin(xi) for xi in x) * delta \n",
    "I0 = 2\n",
    "error = abs(I-I0)/I0*100\n",
    "print(I, error)"
   ]
  },
  {
   "cell_type": "markdown",
   "metadata": {},
   "source": [
    "(2) $\\int_0^1 e^{-x} dx$"
   ]
  },
  {
   "cell_type": "code",
   "execution_count": 14,
   "metadata": {},
   "outputs": [
    {
     "name": "stdout",
     "output_type": "stream",
     "text": [
      "0.6389652236969589 1.0828100388137478\n"
     ]
    }
   ],
   "source": [
    "x = np.linspace(0, 1, N+1)\n",
    "delta = 1 / N\n",
    "I = sum(np.exp(-xi) for xi in x) * delta \n",
    "I0 = 1 - np.exp(-1)\n",
    "error = abs(I-I0)/I0*100\n",
    "print(I, error) "
   ]
  },
  {
   "cell_type": "markdown",
   "metadata": {},
   "source": [
    "(3) $\\int_4^9 x^{3/2} dx$ "
   ]
  },
  {
   "cell_type": "code",
   "execution_count": 15,
   "metadata": {},
   "outputs": [
    {
     "name": "stdout",
     "output_type": "stream",
     "text": [
      "85.27531249971365 1.0371001181441277\n"
     ]
    }
   ],
   "source": [
    "x = np.linspace(4, 9, N+1)\n",
    "delta = (9-4) / N\n",
    "I = sum(xi**(3/2) for xi in x) * delta\n",
    "I0 = (3**5-2**5)*2/5\n",
    "error = abs(I-I0)/I0*100\n",
    "print(I, error) "
   ]
  },
  {
   "cell_type": "markdown",
   "metadata": {},
   "source": [
    "### 台形公式\n",
    "長方形で近似するのでなく、$(x_i, f(x_i)),(x_{i+1}, f(x_{i+1}))$ の2点使って台形の面積の和にしたもの。\n",
    "$$\n",
    "S = \\sum_{k=0}^{N-1} \\frac{f(x_{k+1})+f(x_k)}{2}\\Delta x = \\left(f_1 + f_N + 2(f_2+\\cdots + f_{N-1})\\right) \\frac{\\Delta x}{2}\n",
    "$$"
   ]
  },
  {
   "cell_type": "code",
   "execution_count": 22,
   "metadata": {},
   "outputs": [
    {
     "name": "stdout",
     "output_type": "stream",
     "text": [
      "0.33335000000000004 0.3333333333333333\n"
     ]
    }
   ],
   "source": [
    "def f(x): return x**2\n",
    "x = np.linspace(0, 1, N+1)\n",
    "delta = 1 / N \n",
    "S = sum(f(xi) for xi in x[1:-1])*delta + (f(x[0])+f(x[-1]))/2*delta\n",
    "S0 = 1/3\n",
    "error = abs(S-S0)/S0\n",
    "print(S, S0)"
   ]
  },
  {
   "cell_type": "code",
   "execution_count": 28,
   "metadata": {},
   "outputs": [
    {
     "name": "stdout",
     "output_type": "stream",
     "text": [
      "1.9998355038874436 0.00822480562782113\n"
     ]
    }
   ],
   "source": [
    "def f(x): return np.sin(x)\n",
    "x = np.linspace(0, np.pi, N+1)\n",
    "delta = np.pi / N \n",
    "S = sum(f(xi) for xi in x[0:-1])*delta + (f(x[0])+f(x[-1]))/2*delta \n",
    "S0 = 2\n",
    "error = abs(S-S0)/S0*100 \n",
    "print(S, error)\n",
    "# 両端が0なので、2項目が0となり、長方形の場合と同一の値となる!"
   ]
  },
  {
   "cell_type": "code",
   "execution_count": 30,
   "metadata": {},
   "outputs": [
    {
     "name": "stdout",
     "output_type": "stream",
     "text": [
      "0 -2.37175057864587e-16 0.0314159265358977\n"
     ]
    }
   ],
   "source": [
    "def f(x): return np.cos(x)\n",
    "x = np.linspace(0, np.pi, N+1)\n",
    "delta = np.pi / N\n",
    "S1 = sum(f(xi) for xi in x)*delta \n",
    "S2 = sum(f(xi) for xi in x[0:-1])*delta + (f(x[0])+f(x[-1]))*delta / 2\n",
    "S0 = 0\n",
    "print(S0, S1, S2)"
   ]
  },
  {
   "cell_type": "code",
   "execution_count": 23,
   "metadata": {},
   "outputs": [
    {
     "name": "stdout",
     "output_type": "stream",
     "text": [
      "0.6321258264911017 0.0008333319444336135\n"
     ]
    }
   ],
   "source": [
    "def f(x): return np.exp(-x)\n",
    "x = np.linspace(0, 1, N+1)\n",
    "delta = 1/N \n",
    "S = sum(f(xi) for xi in x[1:-1])*delta +(f(x[0])+f(x[-1]))/2*delta \n",
    "S0 = 1-np.exp(-1)\n",
    "error = abs(S-S0)/S0*100\n",
    "print(S, error)"
   ]
  },
  {
   "cell_type": "code",
   "execution_count": 34,
   "metadata": {},
   "outputs": [
    {
     "name": "stdout",
     "output_type": "stream",
     "text": [
      "0.33835000000000004\n",
      "1.9998355038874436\n",
      "0.6389652236969589\n",
      "85.27531249971365\n"
     ]
    }
   ],
   "source": [
    "def intg(f, a, b, N):\n",
    "    x = np.linspace(a, b, N+1)\n",
    "    delta = (b-a)/N\n",
    "    S = sum(f(xi) for xi in x)*delta \n",
    "    print(S)\n",
    "\n",
    "intg(lambda x: x**2, a=0, b=1, N=100)\n",
    "intg(lambda x: np.sin(x), a=0, b=np.pi, N=100)\n",
    "intg(lambda x: np.exp(-x), a=0, b=1, N=100)\n",
    "intg(lambda x: x**(3/2), a=4, b=9, N=100)"
   ]
  },
  {
   "cell_type": "code",
   "execution_count": 36,
   "metadata": {},
   "outputs": [
    {
     "name": "stdout",
     "output_type": "stream",
     "text": [
      "0.33335000000000004\n",
      "1.9998355038874436\n",
      "0.6321258264911017\n",
      "84.40031249971365\n"
     ]
    }
   ],
   "source": [
    "def trapz(f, a, b, N):\n",
    "    x = np.linspace(a, b, N+1)\n",
    "    delta = (b-a)/N \n",
    "    S = sum(f(xi) for xi in x[1:-1])*delta + (f(x[0])+f(x[-1]))/2*delta \n",
    "    print(S)\n",
    "trapz(lambda x: x**2, a=0, b=1, N=100)\n",
    "trapz(lambda x: np.sin(x), a=0, b=np.pi, N=100)\n",
    "trapz(lambda x: np.exp(-x), a=0, b=1, N=100)\n",
    "trapz(lambda x: x**(3/2), a=4, b=9, N=100)"
   ]
  },
  {
   "cell_type": "code",
   "execution_count": 60,
   "metadata": {},
   "outputs": [
    {
     "name": "stdout",
     "output_type": "stream",
     "text": [
      "LinregressResult(slope=-1.000303348474383, intercept=2.1776258630469973, rvalue=-0.9999999663304249, pvalue=7.416351572782145e-12, stderr=0.00014986662329762412, intercept_stderr=0.000635830233643679)\n",
      "LinregressResult(slope=-1.9998391456644242, intercept=1.6984863469537341, rvalue=-0.9999999966402385, pvalue=2.337741706278741e-13, stderr=9.464630411718968e-05, intercept_stderr=0.0004015502607330544)\n"
     ]
    },
    {
     "data": {
      "image/png": "[encoded data removed]",
      "text/plain": [
       "<Figure size 640x480 with 1 Axes>"
      ]
     },
     "metadata": {},
     "output_type": "display_data"
    }
   ],
   "source": [
    "def intg(f, a, b, N):\n",
    "    x = np.linspace(a, b, N+1)\n",
    "    delta = (b-a)/N\n",
    "    S = sum(f(xi) for xi in x)*delta \n",
    "    return S\n",
    "\n",
    "def trapz(f, a, b, N):\n",
    "    x = np.linspace(a, b, N+1)\n",
    "    delta = (b-a)/N\n",
    "    S = sum(f(xi) for xi in x[1:-1])*delta + (f(x[0])+f(x[-1]))/2*delta \n",
    "    return S\n",
    "\n",
    "X = []\n",
    "Y = []\n",
    "Y1 = []\n",
    "import matplotlib.pyplot as plt \n",
    "import japanize_matplotlib\n",
    "def f1(x): return x**2\n",
    "for n in range(2,7):\n",
    "    nn = 10**n\n",
    "    ret1 = intg(f1, a=0, b=1, N=nn)\n",
    "    ret2 = trapz(f1, a=0, b=1, N=nn)\n",
    "    ex = 1/3\n",
    "    err1 = abs(ex-ret1)/ex*100\n",
    "    err2 = abs(ex-ret2)/ex*100\n",
    "    X.append(nn)\n",
    "    Y.append(err1)\n",
    "    Y1.append(err2)\n",
    "from scipy.stats import linregress\n",
    "X = np.array([np.log10(x) for x in X])\n",
    "Y = np.array([np.log10(y) for y in Y])\n",
    "ret = linregress(X, Y)\n",
    "print(ret)\n",
    "a = ret.slope\n",
    "b = ret.intercept\n",
    "Y1 = [np.log10(y) for y in Y1]\n",
    "ret1 = linregress(X, Y1)\n",
    "print(ret1)\n",
    "a1 = ret1.slope\n",
    "b1 = ret1.intercept\n",
    "plt.scatter(X, Y, label='長方形')\n",
    "plt.scatter(X, Y1, label='台形')\n",
    "plt.xscale(\"log\")\n",
    "plt.yscale(\"log\")\n",
    "plt.grid()\n",
    "plt.legend()\n",
    "plt.xlabel('N')\n",
    "plt.ylabel('relative error[%]')\n",
    "#plt.plot(X, 10**b*X**a)\n",
    "plt.show()\n"
   ]
  },
  {
   "cell_type": "code",
   "execution_count": null,
   "metadata": {},
   "outputs": [],
   "source": []
  },
  {
   "cell_type": "code",
   "execution_count": null,
   "metadata": {},
   "outputs": [],
   "source": []
  },
  {
   "cell_type": "code",
   "execution_count": null,
   "metadata": {},
   "outputs": [],
   "source": []
  }
 ],
 "metadata": {
  "kernelspec": {
   "display_name": "base",
   "language": "python",
   "name": "python3"
  },
  "language_info": {
   "codemirror_mode": {
    "name": "ipython",
    "version": 3
   },
   "file_extension": ".py",
   "mimetype": "text/x-python",
   "name": "python",
   "nbconvert_exporter": "python",
   "pygments_lexer": "ipython3",
   "version": "3.11.5"
  }
 },
 "nbformat": 4,
 "nbformat_minor": 2
}
