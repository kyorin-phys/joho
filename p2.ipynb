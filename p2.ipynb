{
 "cells": [
  {
   "cell_type": "markdown",
   "metadata": {},
   "source": [
    "[![Open In Colab](https://colab.research.google.com/assets/colab-badge.svg)](https://colab.research.google.com/github/kyorin-phys/joho/blob/main/p2.ipynb)"
   ]
  },
  {
   "cell_type": "markdown",
   "metadata": {},
   "source": [
    "### 区分求積法（数値積分）\n",
    "$$\n",
    "S = \\int_a^b f(x)dx = \\lim_{N\\rightarrow \\infty} \\sum_{i}^{N} f(x_k) \\Delta x \n",
    "$$\n",
    "積分区間 $[a,b]$ をN等分した幅を$\\Delta x$として、底辺が$\\Delta x$で高さ$f(x_k)$の短冊の面積の和を定積分の近似値とする。\n",
    "$\\Delta x = \\dfrac{b-a}{N}$"
   ]
  },
  {
   "cell_type": "markdown",
   "metadata": {},
   "source": [
    "例　\n",
    "$$\n",
    "\\int_0^1 x^2 dx = \\frac{1}{3}\n",
    "$$\n",
    "を求め、近似値となることを確かめる。"
   ]
  },
  {
   "cell_type": "code",
   "execution_count": null,
   "metadata": {},
   "outputs": [],
   "source": [
    "\n",
    "import numpy as np\n",
    "N = 100\n",
    "x = np.linspace(0, 1, N+1)\n",
    "x\n"
   ]
  },
  {
   "cell_type": "code",
   "execution_count": null,
   "metadata": {},
   "outputs": [],
   "source": [
    "delta = 1 / N\n",
    "I = sum(xi**2 for xi in x) * delta \n",
    "I0 = 1/3\n",
    "error = abs(I-I0)/I0*100 # 相対誤差％\n",
    "print(I, error)"
   ]
  },
  {
   "cell_type": "markdown",
   "metadata": {},
   "source": [
    "### 練習課題4\n",
    "(1) $\\int_0^\\pi \\sin{x} dx$"
   ]
  },
  {
   "cell_type": "code",
   "execution_count": null,
   "metadata": {},
   "outputs": [],
   "source": [
    "x = np.linspace(0, np.pi, N+1)\n",
    "delta = np.pi / N\n",
    "I = sum(np.sin(xi) for xi in x) * delta \n",
    "I0 = 2\n",
    "error = abs(I-I0)/I0*100\n",
    "print(I, error)"
   ]
  },
  {
   "cell_type": "markdown",
   "metadata": {},
   "source": [
    "(2) $\\int_0^1 e^{-x} dx$"
   ]
  },
  {
   "cell_type": "code",
   "execution_count": null,
   "metadata": {},
   "outputs": [],
   "source": [
    "x = np.linspace(0, 1, N+1)\n",
    "delta = 1 / N\n",
    "I = sum(np.exp(-xi) for xi in x) * delta \n",
    "I0 = 1 - np.exp(-1)\n",
    "error = abs(I-I0)/I0*100\n",
    "print(I, error) "
   ]
  },
  {
   "cell_type": "markdown",
   "metadata": {},
   "source": [
    "(3) $\\int_4^9 x^{3/2} dx$ "
   ]
  },
  {
   "cell_type": "code",
   "execution_count": null,
   "metadata": {},
   "outputs": [],
   "source": [
    "x = np.linspace(4, 9, N+1)\n",
    "delta = (9-4) / N\n",
    "I = sum(xi**(3/2) for xi in x) * delta\n",
    "I0 = (3**5-2**5)*2/5\n",
    "error = abs(I-I0)/I0*100\n",
    "print(I, error) "
   ]
  },
  {
   "cell_type": "markdown",
   "metadata": {},
   "source": [
    "### 台形公式\n",
    "長方形で近似するのでなく、$(x_i, f(x_i)),(x_{i+1}, f(x_{i+1}))$ の2点使って台形の面積の和にしたもの。\n",
    "$$\n",
    "S = \\sum_{k=0}^{N-1} \\frac{f(x_{k+1})+f(x_k)}{2}\\Delta x = \\left(f_1 + f_N + 2(f_2+\\cdots + f_{N-1})\\right) \\frac{\\Delta x}{2}\n",
    "$$"
   ]
  },
  {
   "cell_type": "code",
   "execution_count": null,
   "metadata": {},
   "outputs": [],
   "source": [
    "def f(x): return x**2\n",
    "x = np.linspace(0, 1, N+1)\n",
    "delta = 1 / N \n",
    "S = sum(f(xi) for xi in x[1:-1])*delta + (f(x[0])+f(x[-1]))/2*delta\n",
    "S0 = 1/3\n",
    "error = abs(S-S0)/S0\n",
    "print(S, S0)"
   ]
  },
  {
   "cell_type": "code",
   "execution_count": null,
   "metadata": {},
   "outputs": [],
   "source": [
    "def f(x): return np.sin(x)\n",
    "x = np.linspace(0, np.pi, N+1)\n",
    "delta = np.pi / N \n",
    "S = sum(f(xi) for xi in x[0:-1])*delta + (f(x[0])+f(x[-1]))/2*delta \n",
    "S0 = 2\n",
    "error = abs(S-S0)/S0*100 \n",
    "print(S, error)\n",
    "# 両端が0なので、2項目が0となり、長方形の場合と同一の値となる!"
   ]
  },
  {
   "cell_type": "code",
   "execution_count": null,
   "metadata": {},
   "outputs": [],
   "source": [
    "def f(x): return np.cos(x)\n",
    "x = np.linspace(0, np.pi, N+1)\n",
    "delta = np.pi / N\n",
    "S1 = sum(f(xi) for xi in x)*delta \n",
    "S2 = sum(f(xi) for xi in x[0:-1])*delta + (f(x[0])+f(x[-1]))*delta / 2\n",
    "S0 = 0\n",
    "print(S0, S1, S2)"
   ]
  },
  {
   "cell_type": "code",
   "execution_count": null,
   "metadata": {},
   "outputs": [],
   "source": [
    "def f(x): return np.exp(-x)\n",
    "x = np.linspace(0, 1, N+1)\n",
    "delta = 1/N \n",
    "S = sum(f(xi) for xi in x[1:-1])*delta +(f(x[0])+f(x[-1]))/2*delta \n",
    "S0 = 1-np.exp(-1)\n",
    "error = abs(S-S0)/S0*100\n",
    "print(S, error)"
   ]
  },
  {
   "cell_type": "code",
   "execution_count": null,
   "metadata": {},
   "outputs": [],
   "source": [
    "def intg(f, a, b, N):\n",
    "    x = np.linspace(a, b, N+1)\n",
    "    delta = (b-a)/N\n",
    "    S = sum(f(xi) for xi in x)*delta \n",
    "    print(S)\n",
    "\n",
    "intg(lambda x: x**2, a=0, b=1, N=100)\n",
    "intg(lambda x: np.sin(x), a=0, b=np.pi, N=100)\n",
    "intg(lambda x: np.exp(-x), a=0, b=1, N=100)\n",
    "intg(lambda x: x**(3/2), a=4, b=9, N=100)"
   ]
  },
  {
   "cell_type": "code",
   "execution_count": null,
   "metadata": {},
   "outputs": [],
   "source": [
    "def trapz(f, a, b, N):\n",
    "    x = np.linspace(a, b, N+1)\n",
    "    delta = (b-a)/N \n",
    "    S = sum(f(xi) for xi in x[1:-1])*delta + (f(x[0])+f(x[-1]))/2*delta \n",
    "    print(S)\n",
    "trapz(lambda x: x**2, a=0, b=1, N=100)\n",
    "trapz(lambda x: np.sin(x), a=0, b=np.pi, N=100)\n",
    "trapz(lambda x: np.exp(-x), a=0, b=1, N=100)\n",
    "trapz(lambda x: x**(3/2), a=4, b=9, N=100)"
   ]
  },
  {
   "cell_type": "code",
   "execution_count": null,
   "metadata": {},
   "outputs": [],
   "source": [
    "def intg(f, a, b, N):\n",
    "    x = np.linspace(a, b, N+1)\n",
    "    delta = (b-a)/N\n",
    "    S = sum(f(xi) for xi in x)*delta \n",
    "    return S\n",
    "\n",
    "def trapz(f, a, b, N):\n",
    "    x = np.linspace(a, b, N+1)\n",
    "    delta = (b-a)/N\n",
    "    S = sum(f(xi) for xi in x[1:-1])*delta + (f(x[0])+f(x[-1]))/2*delta \n",
    "    return S\n",
    "\n",
    "X = []\n",
    "Y = []\n",
    "Y1 = []\n",
    "import matplotlib.pyplot as plt \n",
    "import japanize_matplotlib\n",
    "def f1(x): return x**2\n",
    "for n in range(2,7):\n",
    "    nn = 10**n\n",
    "    ret1 = intg(f1, a=0, b=1, N=nn)\n",
    "    ret2 = trapz(f1, a=0, b=1, N=nn)\n",
    "    ex = 1/3\n",
    "    err1 = abs(ex-ret1)/ex*100\n",
    "    err2 = abs(ex-ret2)/ex*100\n",
    "    X.append(nn)\n",
    "    Y.append(err1)\n",
    "    Y1.append(err2)\n",
    "from scipy.stats import linregress\n",
    "X = np.array([np.log10(x) for x in X])\n",
    "Y = np.array([np.log10(y) for y in Y])\n",
    "ret = linregress(X, Y)\n",
    "print(ret)\n",
    "a = ret.slope\n",
    "b = ret.intercept\n",
    "Y1 = [np.log10(y) for y in Y1]\n",
    "ret1 = linregress(X, Y1)\n",
    "print(ret1)\n",
    "a1 = ret1.slope\n",
    "b1 = ret1.intercept\n",
    "plt.scatter(X, Y, label='長方形')\n",
    "plt.scatter(X, Y1, label='台形')\n",
    "plt.xscale(\"log\")\n",
    "plt.yscale(\"log\")\n",
    "plt.grid()\n",
    "plt.legend()\n",
    "plt.xlabel('N')\n",
    "plt.ylabel('relative error[%]')\n",
    "#plt.plot(X, 10**b*X**a)\n",
    "plt.show()\n"
   ]
  },
  {
   "cell_type": "markdown",
   "metadata": {},
   "source": [
    "[scipy.integrate](https://docs.scipy.org/doc/scipy/reference/integrate.html) に定積分を計算する関数が用意されているが、特異的な関数でない限り quad で用が足りるはず。"
   ]
  },
  {
   "cell_type": "code",
   "execution_count": null,
   "metadata": {},
   "outputs": [],
   "source": [
    "import numpy as np\n",
    "from scipy.integrate import quad, trapezoid, simpson \n",
    "\n",
    "def func(x): return x**2\n",
    "N = 100\n",
    "x = np.linspace(0, 1, N+1)\n",
    "y = func(x)\n",
    "res1 = trapezoid(y=y, x=x, dx=1/N) # 台形公式\n",
    "print(res1)\n",
    "res2 = simpson(y=y, x=x, dx=1/N) # Simpson公式　2次関数で近似\n",
    "print(res2) #完全に一致\n",
    "res3 = quad(func, 0, 1)\n",
    "print(res3) # 積分結果と誤差\n",
    "# 上と同じ。lambda記法 を使うと関数を定義しなくてよい \n",
    "res4 = quad(lambda x: x**2, 0, 1)\n",
    "print(res4)"
   ]
  },
  {
   "cell_type": "code",
   "execution_count": null,
   "metadata": {},
   "outputs": [],
   "source": []
  }
 ],
 "metadata": {
  "kernelspec": {
   "display_name": "base",
   "language": "python",
   "name": "python3"
  },
  "language_info": {
   "codemirror_mode": {
    "name": "ipython",
    "version": 3
   },
   "file_extension": ".py",
   "mimetype": "text/x-python",
   "name": "python",
   "nbconvert_exporter": "python",
   "pygments_lexer": "ipython3",
   "version": "3.11.7"
  }
 },
 "nbformat": 4,
 "nbformat_minor": 2
}
