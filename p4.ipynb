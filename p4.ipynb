{
 "cells": [
  {
   "cell_type": "markdown",
   "metadata": {},
   "source": [
    "[![Open In Colab](https://colab.research.google.com/assets/colab-badge.svg)](https://colab.research.google.com/github/kyorin-phys/joho/blob/main/p4.ipynb)"
   ]
  },
  {
   "cell_type": "markdown",
   "metadata": {},
   "source": [
    "### 応用問題2 (ヘモグロビンの飽和曲線)\n",
    "データファイル(p2.csv) に酸素分圧(mmHg)とヘモグロビンの酸素飽和度(%)のデータがある。\n",
    "\n",
    "(1) データを読み込み、散布図でプロットする。"
   ]
  },
  {
   "cell_type": "code",
   "execution_count": 1,
   "metadata": {},
   "outputs": [],
   "source": [
    "import numpy as np\n",
    "import pandas as pd\n",
    "import matplotlib.pyplot as plt\n",
    "import japanize_matplotlib\n",
    "from numpy import log, exp\n",
    "from scipy.stats import linregress "
   ]
  },
  {
   "cell_type": "code",
   "execution_count": null,
   "metadata": {},
   "outputs": [],
   "source": [
    "df = pd.read_csv('p2.csv')\n",
    "df.head()"
   ]
  },
  {
   "cell_type": "code",
   "execution_count": null,
   "metadata": {},
   "outputs": [],
   "source": [
    "x = df.iloc[:,0]\n",
    "y = df.iloc[:,1]\n",
    "plt.scatter(x, y)\n",
    "plt.xlabel('酸素分圧[mmHg]')\n",
    "plt.ylabel('酸素飽和度(%)')\n",
    "plt.grid()\n",
    "plt.show()\n"
   ]
  },
  {
   "cell_type": "markdown",
   "metadata": {},
   "source": [
    "Hillの式\n",
    "$$\n",
    "y = 100 \\frac{ax^n}{1+ax^n}\n",
    "$$\n",
    "で近似して$a, n$の値を実験データから求めたい。\n",
    "曲線のままでは非線形回帰が必要だが、この関数は次のようなロジット変換で直線になる。\n",
    "$$\n",
    "\\ln{\\frac{y}{100-y}} = n\\ln{x} + \\ln{a}\n",
    "$$\n",
    "$X = \\ln{x}, Y = \\ln{\\frac{y}{100-y}}$ とおくと、\n",
    "$Y = nX + \\ln{a}$ となり、傾き$n$, y切片$\\ln{a}$の直線を表す。\n",
    "\n",
    "$X, Y$の関係をプロットして確認せよ。\n"
   ]
  },
  {
   "cell_type": "code",
   "execution_count": null,
   "metadata": {},
   "outputs": [],
   "source": [
    "X = log(x)\n",
    "Y = log(y/(100-y))\n",
    "plt.scatter(X, Y)\n",
    "plt.xlabel('$X$')\n",
    "plt.ylabel('$Y$')\n",
    "plt.grid()\n",
    "plt.show()"
   ]
  },
  {
   "cell_type": "code",
   "execution_count": null,
   "metadata": {},
   "outputs": [],
   "source": [
    "# 変数変換で対数を取らずに両対数グラフにしても同じ形であるが、線形回帰でパラメータを求めるときは対数を取る\n",
    "X1 = x \n",
    "Y1 = y/(100-y)\n",
    "plt.scatter(X1, Y1)\n",
    "plt.xscale('log')\n",
    "plt.yscale('log')\n",
    "plt.xlabel('$x$')\n",
    "plt.ylabel('$y/(100-y)$')\n",
    "plt.grid()\n",
    "plt.show()"
   ]
  },
  {
   "cell_type": "code",
   "execution_count": null,
   "metadata": {},
   "outputs": [],
   "source": [
    "lr = linregress(X, Y)\n",
    "print(lr)\n",
    "n = lr.slope\n",
    "lna = lr.intercept\n",
    "a = exp(lna)\n",
    "print(n, a)\n",
    "xth = np.linspace(0, 120)\n",
    "yth = 100*a*xth**n/(1+a*xth**n)\n",
    "plt.scatter(x, y, label='実験値')\n",
    "plt.plot(xth, yth, label='理論値')\n",
    "plt.xlabel('酸素分圧[mmHg]')\n",
    "plt.ylabel('飽和度[%]')\n",
    "plt.legend()\n",
    "plt.show()"
   ]
  },
  {
   "cell_type": "code",
   "execution_count": null,
   "metadata": {},
   "outputs": [],
   "source": [
    "# XYのグラフで直線がよい近似となるのは中間部なので、最初と最後の直線から外れた3点を除外して近似してみる\n",
    "lr1 = linregress(X[3:-3], Y[3:-3])\n",
    "print(lr1)\n",
    "n1 = lr1.slope\n",
    "a1 = exp(lr1.intercept)\n",
    "y1 = 100*a1*xth**n1/(1+a1*xth**n1)\n",
    "plt.scatter(x, y, label='実験値')\n",
    "plt.plot(xth, y1, label='理論値')\n",
    "plt.xlabel('酸素分圧[mmHg]')\n",
    "plt.ylabel('飽和度[%]')\n",
    "plt.legend()\n",
    "plt.show()\n",
    "# このようにすると酸素分圧20mmHgあたりのずれが改善した。"
   ]
  },
  {
   "cell_type": "code",
   "execution_count": null,
   "metadata": {},
   "outputs": [],
   "source": []
  }
 ],
 "metadata": {
  "kernelspec": {
   "display_name": "base",
   "language": "python",
   "name": "python3"
  },
  "language_info": {
   "codemirror_mode": {
    "name": "ipython",
    "version": 3
   },
   "file_extension": ".py",
   "mimetype": "text/x-python",
   "name": "python",
   "nbconvert_exporter": "python",
   "pygments_lexer": "ipython3",
   "version": "3.11.7"
  }
 },
 "nbformat": 4,
 "nbformat_minor": 2
}
