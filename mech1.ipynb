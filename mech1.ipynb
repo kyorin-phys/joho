{
 "cells": [
  {
   "cell_type": "code",
   "execution_count": 1,
   "metadata": {},
   "outputs": [],
   "source": [
    "import matplotlib.pyplot as plt\n",
    "import numpy as np\n",
    "import ipywidgets as widgets \n",
    "from ipywidgets import interactive"
   ]
  },
  {
   "cell_type": "markdown",
   "metadata": {},
   "source": [
    "### 力学の問題\n",
    "斜方投射の軌跡を描く。高さと角度を動的に変化させる。"
   ]
  },
  {
   "cell_type": "code",
   "execution_count": 2,
   "metadata": {},
   "outputs": [
    {
     "data": {
      "application/vnd.jupyter.widget-view+json": {
       "model_id": "caa3c93d3ea9493e97e12a47cd5f242e",
       "version_major": 2,
       "version_minor": 0
      },
      "text/plain": [
       "interactive(children=(IntSlider(value=2, description='h', max=3), IntSlider(value=45, description='deg', max=9…"
      ]
     },
     "execution_count": 2,
     "metadata": {},
     "output_type": "execute_result"
    }
   ],
   "source": [
    "def ballthrow(h, deg):\n",
    "    x = 0\n",
    "    y = h \n",
    "    v = 1\n",
    "    g = 9.8\n",
    "    theta = np.radians(deg)\n",
    "    vx = v*np.cos(theta)\n",
    "    vy = v*np.sin(theta)\n",
    "    t = 0\n",
    "    dt = 0.01\n",
    "    T = [t]\n",
    "    X = [x]\n",
    "    Y = [y]\n",
    "    while y >= 0:\n",
    "        t += dt \n",
    "        vx += 0\n",
    "        vy += -g*dt \n",
    "        x += vx*dt\n",
    "        y += vy*dt\n",
    "        T.append(t)\n",
    "        X.append(x)\n",
    "        Y.append(y)\n",
    "    plt.scatter(X, Y)\n",
    "    plt.ylim(0, 3)\n",
    "    plt.xlim(0, 1)\n",
    "    plt.show()\n",
    "#ballthrow(1.8, 45)\n",
    "interactive(ballthrow, \n",
    "            h = widgets.IntSlider(min=0, max=3, step=1, value=2), \n",
    "            deg = widgets.IntSlider(min=0, max=90,step=5,value=45))\n"
   ]
  },
  {
   "cell_type": "code",
   "execution_count": 3,
   "metadata": {},
   "outputs": [
    {
     "data": {
      "image/png": "[encoded data removed]",
      "text/plain": [
       "<Figure size 640x480 with 1 Axes>"
      ]
     },
     "metadata": {},
     "output_type": "display_data"
    }
   ],
   "source": [
    "# ライブラリsolve_ivpで初期値問題を解く\n",
    "from scipy.integrate import solve_ivp\n",
    "import numpy as np\n",
    "from numpy import radians, sin, cos, tan, sqrt\n",
    "import matplotlib.pyplot as plt\n",
    "\n",
    "h = 2.0\n",
    "g = 9.8\n",
    "\n",
    "def deriv(t, z):\n",
    "    vx, vy, x, y = z\n",
    "    return [0, -g, vx, vy]\n",
    "\n",
    "def ground(t, z):\n",
    "    return z[3]+0.1\n",
    "\n",
    "ground.terminal = True\n",
    "\n",
    "def solve(deg, v0=1):\n",
    "    t1 = 2\n",
    "    tspan = [0, t1]\n",
    "    teval = np.linspace(0, t1, 200)\n",
    "    theta = radians(deg)\n",
    "    y0 = [v0*cos(theta), v0*sin(theta), 0, h]\n",
    "    sol = solve_ivp(deriv, tspan, y0, 'RK45',teval, events=ground) \n",
    "    #plt.plot(sol.t, sol.y[3])\n",
    "    #print(deg, sol.y[2][-1])\n",
    "    plt.scatter(deg, sol.y[2][-1],c='b')\n",
    "\n",
    "# 2次方程式の解の公式で落下地点のx座標を求める。\n",
    "def solve2(deg, v0=1):\n",
    "    theta = radians(deg)\n",
    "    a = g/(2*v0**2*cos(theta)**2)\n",
    "    b = -tan(theta)\n",
    "    c = -h \n",
    "    det = b**2-4*a*c\n",
    "    x = (-b+sqrt(det))/2/a\n",
    "    #print(deg, x)\n",
    "    plt.scatter(deg, x, c='b')\n",
    "\n",
    "for d in range(0, 90):\n",
    "    solve(d, 10)"
   ]
  },
  {
   "cell_type": "code",
   "execution_count": null,
   "metadata": {},
   "outputs": [],
   "source": []
  }
 ],
 "metadata": {
  "kernelspec": {
   "display_name": "base",
   "language": "python",
   "name": "python3"
  },
  "language_info": {
   "codemirror_mode": {
    "name": "ipython",
    "version": 3
   },
   "file_extension": ".py",
   "mimetype": "text/x-python",
   "name": "python",
   "nbconvert_exporter": "python",
   "pygments_lexer": "ipython3",
   "version": "3.11.5"
  }
 },
 "nbformat": 4,
 "nbformat_minor": 2
}
