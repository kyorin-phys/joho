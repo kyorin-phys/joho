{
 "cells": [
  {
   "cell_type": "markdown",
   "metadata": {},
   "source": [
    "[![Open In Colab](https://colab.research.google.com/assets/colab-badge.svg)](https://colab.research.google.com/github/kyorin-phys/joho/blob/main/p7.ipynb)\n",
    "\n",
    "### 統計処理\n",
    "基本統計量を自分で算出することはできるが、ライブラリを使ったほうが楽。\n",
    "csv,excelファイルから読み込むときにpandasを使い、そのまま基本統計量を一括して求めるのが最も楽。\n",
    "個々の統計関数はstatisticsライブラリとscipy.statsライブラリにある。\n",
    "statisticsは標準ライブラリに含まれ、記述統計に使う。scipy.statsは統計分布や仮説検定に使う関数が含まれる。\n",
    "使いこなせばSPSSでできることはほとんどできる。\n",
    "[statistics](https://docs.python.org/ja/3/library/statistics.html#module-statistics )\n",
    "[scipy.stats](https://docs.scipy.org/doc/scipy/reference/stats.html )"
   ]
  },
  {
   "cell_type": "code",
   "execution_count": null,
   "metadata": {},
   "outputs": [],
   "source": [
    "import pandas as pd \n",
    "\n",
    "df = pd.read_csv('p3.csv')\n",
    "x = df.x\n",
    "y = df.y\n",
    "df.head()"
   ]
  },
  {
   "cell_type": "code",
   "execution_count": null,
   "metadata": {},
   "outputs": [],
   "source": [
    "# describe でサンプル数、平均、標準偏差、5数要約が一度に得られる\n",
    "df.describe()"
   ]
  },
  {
   "cell_type": "code",
   "execution_count": 3,
   "metadata": {},
   "outputs": [],
   "source": [
    "import statistics\n",
    "import scipy.stats as stats "
   ]
  },
  {
   "cell_type": "code",
   "execution_count": null,
   "metadata": {},
   "outputs": [],
   "source": [
    "statistics.mean(x), statistics.variance(x), statistics.stdev(x),statistics.median(x),statistics.mode(x)"
   ]
  },
  {
   "cell_type": "code",
   "execution_count": null,
   "metadata": {},
   "outputs": [],
   "source": [
    "stats.skew(x), stats.kurtosis(x)"
   ]
  },
  {
   "cell_type": "code",
   "execution_count": null,
   "metadata": {},
   "outputs": [],
   "source": [
    "# 関数を自分で作る\n",
    "import numpy as np\n",
    "def _mean(a):\n",
    "    return sum(a)/len(a)\n",
    "\n",
    "def _var(a):\n",
    "    return sum((a-_mean(a))**2)/(len(a)-1)\n",
    "\n",
    "def _std(a):\n",
    "    return np.sqrt(_var(a))\n",
    "\n",
    "_mean(x), _var(x), _std(x)"
   ]
  },
  {
   "cell_type": "code",
   "execution_count": null,
   "metadata": {},
   "outputs": [],
   "source": []
  },
  {
   "cell_type": "code",
   "execution_count": null,
   "metadata": {},
   "outputs": [],
   "source": []
  }
 ],
 "metadata": {
  "kernelspec": {
   "display_name": "base",
   "language": "python",
   "name": "python3"
  },
  "language_info": {
   "codemirror_mode": {
    "name": "ipython",
    "version": 3
   },
   "file_extension": ".py",
   "mimetype": "text/x-python",
   "name": "python",
   "nbconvert_exporter": "python",
   "pygments_lexer": "ipython3",
   "version": "3.11.7"
  }
 },
 "nbformat": 4,
 "nbformat_minor": 2
}
