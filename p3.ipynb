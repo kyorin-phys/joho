{
 "cells": [
  {
   "cell_type": "markdown",
   "metadata": {},
   "source": [
    "[![Open In Colab](https://colab.research.google.com/assets/colab-badge.svg)](https://colab.research.google.com/github/kyorin-phys/joho/blob/main/p3.ipynb)"
   ]
  },
  {
   "cell_type": "markdown",
   "metadata": {},
   "source": [
    "### 統計関数\n",
    "標準正規分布関数\n",
    "$$\n",
    "f(x) = \\frac{1}{\\sqrt{2\\pi}} \\exp{\\left(-\\frac{1}{2}x^2 \\right)}dx\n",
    "$$"
   ]
  },
  {
   "cell_type": "markdown",
   "metadata": {},
   "source": [
    "累積分布関数\n",
    "$$\n",
    "g(x) = \\int_{-\\infty}^x f(t)dt\n",
    "$$"
   ]
  },
  {
   "cell_type": "code",
   "execution_count": null,
   "metadata": {},
   "outputs": [],
   "source": [
    "import numpy as np\n",
    "from numpy import pi, exp, sqrt\n",
    "import matplotlib.pyplot as plt\n",
    "import japanize_matplotlib\n",
    "from scipy import stats \n",
    "\n",
    "def f(x):\n",
    "    return exp(-x**2/2)/sqrt(2*pi)\n",
    "\n",
    "x = np.linspace(-3, 3)\n",
    "y = f(x)\n",
    "y = stats.norm.pdf(x,loc=0, scale=1)\n",
    "y1 = stats.norm.cdf(x, loc=0, scale=1)\n",
    "plt.plot(x, y, label='確率密度関数pdf')\n",
    "plt.plot(x, y1, label='累積分布関数cdf')\n",
    "plt.xlabel('確率変数x')\n",
    "plt.ylabel('確率密度')\n",
    "plt.title('標準正規分布')\n",
    "plt.legend()\n",
    "plt.show()\n"
   ]
  },
  {
   "cell_type": "code",
   "execution_count": null,
   "metadata": {},
   "outputs": [],
   "source": [
    "# [-n,n] (n=1,2,3)の区間に何％含まれるか\n",
    "for n in [1,2,3]:\n",
    "    print(\"n =\",n,(stats.norm.cdf(n,0,1)-stats.norm.cdf(-n,0,1))*100)"
   ]
  },
  {
   "cell_type": "code",
   "execution_count": null,
   "metadata": {},
   "outputs": [],
   "source": [
    "# パーセント点\n",
    "for p in [0.05, 0.01]:\n",
    "    print(\"p =\", p, \"両側：\", stats.norm.ppf(1-p/2, 0,1), \n",
    "          \"片側:\", stats.norm.ppf(1-p, 0,1))\n"
   ]
  },
  {
   "cell_type": "code",
   "execution_count": null,
   "metadata": {},
   "outputs": [],
   "source": []
  }
 ],
 "metadata": {
  "kernelspec": {
   "display_name": "base",
   "language": "python",
   "name": "python3"
  },
  "language_info": {
   "codemirror_mode": {
    "name": "ipython",
    "version": 3
   },
   "file_extension": ".py",
   "mimetype": "text/x-python",
   "name": "python",
   "nbconvert_exporter": "python",
   "pygments_lexer": "ipython3",
   "version": "3.11.7"
  }
 },
 "nbformat": 4,
 "nbformat_minor": 2
}
